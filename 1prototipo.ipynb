{
 "cells": [
  {
   "cell_type": "code",
   "execution_count": 17,
   "id": "4f9d3338",
   "metadata": {},
   "outputs": [
    {
     "name": "stdout",
     "output_type": "stream",
     "text": [
      "1\n"
     ]
    }
   ],
   "source": [
    "import numpy as np\n",
    "import matplotlib as mp\n",
    "\n",
    "#Creacion de los discos\n",
    "class Discos:\n",
    "    name = \"\"\n",
    "    radio = 0\n",
    "    masa = 0\n",
    "    Vx = 0\n",
    "    Vy = 0\n",
    "    \n",
    "    def __init__(self,thename,elradio,lamasa,veloX,veloY):\n",
    "        self.name = thename\n",
    "        self.radio = elradio\n",
    "        self.masa = lamasa\n",
    "        self.Vx = veloX\n",
    "        self.Vy = veloY\n",
    "\n",
    "def main():\n",
    "    #disco 1\n",
    "    nom1 = \"disco1\"\n",
    "    disc1 = Discos(nom1,5,10,1,1)\n",
    "    \n",
    "    print(disc1.Vx)\n",
    "    '''#disco 2\n",
    "    nom2 = \"disco2\"\n",
    "    rad2 = 5\n",
    "    masa2 = 10\n",
    "    disc2 = Discos(nom2,rad2,masa2)\n",
    "    \n",
    "    #disco 3\n",
    "    nom3 = \"disco3\"\n",
    "    rad3 = 5\n",
    "    masa3 = 10\n",
    "    disc3 = Discos(nom3,rad3,masa3)\n",
    "    \n",
    "    #disco 4\n",
    "    nom4 = \"disco4\"\n",
    "    rad4 = 5\n",
    "    masa4 = 10\n",
    "    disc4 = Discos(nom4,rad4,masa4)\n",
    "    '''    \n",
    "    \n",
    "        \n",
    "main()"
   ]
  },
  {
   "cell_type": "code",
   "execution_count": null,
   "id": "2a4620c4",
   "metadata": {},
   "outputs": [],
   "source": []
  }
 ],
 "metadata": {
  "kernelspec": {
   "display_name": "Python 3 (ipykernel)",
   "language": "python",
   "name": "python3"
  },
  "language_info": {
   "codemirror_mode": {
    "name": "ipython",
    "version": 3
   },
   "file_extension": ".py",
   "mimetype": "text/x-python",
   "name": "python",
   "nbconvert_exporter": "python",
   "pygments_lexer": "ipython3",
   "version": "3.12.3"
  }
 },
 "nbformat": 4,
 "nbformat_minor": 5
}
